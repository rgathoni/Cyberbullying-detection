{
 "cells": [
  {
   "cell_type": "markdown",
   "id": "b54216aa",
   "metadata": {},
   "source": []
  },
  {
   "cell_type": "code",
   "execution_count": null,
   "id": "b9368373",
   "metadata": {},
   "outputs": [],
   "source": [
    "# Notebook 1: Data Exploration and Preprocessing"
   ]
  },
  {
   "cell_type": "code",
   "execution_count": null,
   "id": "46678d3d",
   "metadata": {
    "vscode": {
     "languageId": "markdown"
    }
   },
   "outputs": [],
   "source": [
    "## 1. Setup and Data Loading\n"
   ]
  },
  {
   "cell_type": "code",
   "execution_count": 1,
   "id": "5ed985e8",
   "metadata": {
    "vscode": {
     "languageId": "markdown"
    }
   },
   "outputs": [
    {
     "name": "stdout",
     "output_type": "stream",
     "text": [
      "Dataset loaded successfully!\n",
      "Shape: (677, 2)\n"
     ]
    }
   ],
   "source": [
    "import pandas as pd\n",
    "import numpy as np\n",
    "import matplotlib.pyplot as plt\n",
    "import seaborn as sns\n",
    "import sys\n",
    "sys.path.append('../src')\n",
    "\n",
    "# Import our custom preprocessing functions\n",
    "from preprocess import preprocess_pipeline, clean_text, normalize_emojis\n",
    "\n",
    "sns.set_style('whitegrid')\n",
    "\n",
    "# Load the dataset\n",
    "try:\n",
    "    df = pd.read_csv('../data/cyberbullying_data.csv')\n",
    "    print(\"Dataset loaded successfully!\")\n",
    "    print(f\"Shape: {df.shape}\")\n",
    "except FileNotFoundError:\n",
    "    print(\"Error: Dataset not found. Please place `cyberbullying_data.csv` in the `data/` directory.\")\n"
   ]
  },
  {
   "cell_type": "code",
   "execution_count": null,
   "id": "049afb12",
   "metadata": {
    "vscode": {
     "languageId": "markdown"
    }
   },
   "outputs": [],
   "source": [
    "df.head()\n"
   ]
  },
  {
   "cell_type": "markdown",
   "id": "595f0370",
   "metadata": {},
   "source": [
    "## 2. Exploratory Data Analysis (EDA)\n"
   ]
  },
  {
   "cell_type": "code",
   "execution_count": null,
   "id": "0e2e5e1a",
   "metadata": {
    "vscode": {
     "languageId": "markdown"
    }
   },
   "outputs": [],
   "source": [
    "print(df.info())\n"
   ]
  },
  {
   "cell_type": "code",
   "execution_count": null,
   "id": "da9291f5",
   "metadata": {
    "vscode": {
     "languageId": "markdown"
    }
   },
   "outputs": [],
   "source": [
    "# Check for class imbalance\n",
    "plt.figure(figsize=(8, 5))\n",
    "sns.countplot(x='bullying_label', data=df)\n",
    "plt.title('Distribution of Cyberbullying Labels')\n",
    "plt.xlabel('Label (1 = Bullying, 0 = Not Bullying)')\n",
    "plt.ylabel('Count')\n",
    "plt.show()\n"
   ]
  },
  {
   "cell_type": "markdown",
   "id": "c44a1390",
   "metadata": {},
   "source": [
    "The plot above shows the class distribution. If the dataset is highly imbalanced, we need to consider techniques like `class_weight='balanced'` in our models or resampling methods (e.g., SMOTE).\n"
   ]
  },
  {
   "cell_type": "markdown",
   "id": "9018fc35",
   "metadata": {},
   "source": [
    "## 3. Text Preprocessing\n"
   ]
  },
  {
   "cell_type": "markdown",
   "id": "daa5d271",
   "metadata": {},
   "source": [
    "Here, we'll use the functions defined in `src/preprocess.py` to clean our text data. This ensures consistency between our exploration and the final training script.\n"
   ]
  },
  {
   "cell_type": "code",
   "execution_count": null,
   "id": "c34fa9ab",
   "metadata": {
    "vscode": {
     "languageId": "markdown"
    }
   },
   "outputs": [],
   "source": [
    "# Show a 'before and after' example\n",
    "sample_text = \"I'm literally dying of laughter at this meme you sent me! You're killing me with these jokes! 😂💀 @somefriend\"\n",
    "\n",
    "normalized_emojis = normalize_emojis(sample_text)\n",
    "cleaned_final = clean_text(normalized_emojis)\n",
    "\n",
    "print(f\"Original:      {sample_text}\")\n",
    "print(f\"Processed:     {cleaned_final}\")\n"
   ]
  },
  {
   "cell_type": "code",
   "execution_count": null,
   "id": "d043b203",
   "metadata": {
    "vscode": {
     "languageId": "markdown"
    }
   },
   "outputs": [],
   "source": [
    "# Apply the full pipeline to the dataframe\n",
    "df_processed = preprocess_pipeline(df, 'text')\n",
    "\n",
    "# Save the processed data for the training script\n",
    "df_processed.to_csv('../data/processed/cleaned_data.csv', index=False)\n",
    "\n",
    "print(\"Processed data saved to `data/processed/cleaned_data.csv`\")\n",
    "df_processed[['text', 'processed_text']].head()\n"
   ]
  }
 ],
 "metadata": {
  "kernelspec": {
   "display_name": "venv",
   "language": "python",
   "name": "python3"
  },
  "language_info": {
   "codemirror_mode": {
    "name": "ipython",
    "version": 3
   },
   "file_extension": ".py",
   "mimetype": "text/x-python",
   "name": "python",
   "nbconvert_exporter": "python",
   "pygments_lexer": "ipython3",
   "version": "3.10.7"
  }
 },
 "nbformat": 4,
 "nbformat_minor": 5
}
